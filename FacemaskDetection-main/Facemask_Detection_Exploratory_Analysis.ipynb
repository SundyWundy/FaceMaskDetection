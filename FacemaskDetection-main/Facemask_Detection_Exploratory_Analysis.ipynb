﻿{
  "nbformat": 4,
  "nbformat_minor": 0,
  "metadata": {
    "colab": {
      "name": "Facemask Detection Exploratory Analysis .ipynb",
      "provenance": [],
      "collapsed_sections": [
        "5SPuMXPk-Mhw"
      ]
    },
    "kernelspec": {
      "display_name": "Python 3",
      "name": "python3"
    }
  },
  "cells": [
    {
      "cell_type": "markdown",
      "metadata": {
        "id": "O5ZnWxi3VEaD"
      },
      "source": [
        "###The source code present below includes:\r\n",
        "\r\n",
        "###Part 1: Data exploration and visualization code\r\n",
        "\r\n",
        "###Part 2: Data Cleaning and Transformation code\r\n",
        "\r\n",
        "---\r\n",
        "\r\n",
        "---\r\n",
        "\r\n",
        "\r\n",
        "\r\n"
      ]
    },
    {
      "cell_type": "markdown",
      "metadata": {
        "id": "mTd3C7Gq0hew"
      },
      "source": [
        "# Image and Annotation file are available in google drive.\n",
        "# ***Connecting to the Google Drive***"
      ]
    },
    {
      "cell_type": "code",
      "metadata": {
        "id": "HXuCn7IO60no",
        "colab": {
          "base_uri": "https://localhost:8080/"
        },
        "outputId": "25bf4076-e372-49d6-9b2e-654ae109facb"
      },
      "source": [
        "from google.colab import drive\n",
        "drive.mount('/content/drive')"
      ],
      "execution_count": null,
      "outputs": [
        {
          "output_type": "stream",
          "text": [
            "Drive already mounted at /content/drive; to attempt to forcibly remount, call drive.mount(\"/content/drive\", force_remount=True).\n"
          ],
          "name": "stdout"
        }
      ]
    },
    {
      "cell_type": "markdown",
      "metadata": {
        "id": "J6i58B5-1JO1"
      },
      "source": [
        "# *** Annotating file Pascal VOC XML format is converted to a csv format ***"
      ]
    },
    {
      "cell_type": "code",
      "metadata": {
        "id": "C1EgPXrXqgPo"
      },
      "source": [
        "import os\n",
        "import glob\n",
        "import numpy as np\n",
        "import pandas as pd\n",
        "import xml.etree.ElementTree as ET\n",
        "import statistics as stats\n",
        "import matplotlib.pyplot as plt\n",
        "import seaborn as sns"
      ],
      "execution_count": null,
      "outputs": []
    },
    {
      "cell_type": "code",
      "metadata": {
        "id": "2vwMgMLGOO1c",
        "colab": {
          "base_uri": "https://localhost:8080/"
        },
        "outputId": "88d9d642-ac29-432e-cffe-151c5e164059"
      },
      "source": [
        "\n",
        "\n",
        "\n",
        "def xml_to_csv(path):\n",
        "    xml_list = []\n",
        "    for xml_file in glob.glob(path + '/*.xml'):\n",
        "        #print(xml_file)\n",
        "        tree = ET.parse(xml_file)\n",
        "        root = tree.getroot()\n",
        "        for member in root.findall('object'):\n",
        "            bbx = member.find('bndbox')\n",
        "            xmin = int(bbx.find('xmin').text)\n",
        "            ymin = int(bbx.find('ymin').text)\n",
        "            xmax = int(bbx.find('xmax').text)\n",
        "            ymax = int(bbx.find('ymax').text)\n",
        "            label = member.find('name').text\n",
        "\n",
        "            value = (root.find('filename').text,\n",
        "                     int(root.find('size')[0].text),\n",
        "                     int(root.find('size')[1].text),\n",
        "                     label,\n",
        "                     xmin,\n",
        "                     ymin,\n",
        "                     xmax,\n",
        "                     ymax\n",
        "                     )\n",
        "            xml_list.append(value)\n",
        "    column_name = ['filename', 'width', 'height',\n",
        "                   'class', 'xmin', 'ymin', 'xmax', 'ymax']\n",
        "    xml_df = pd.DataFrame(xml_list, columns=column_name)\n",
        "    return xml_df\n",
        "\n",
        "\n",
        "def main():\n",
        "    #datasets = ['train', 'dev', 'test']\n",
        "    datasets = ['All_images']\n",
        "    for ds in datasets:\n",
        "        #image_path = os.path.join(os.getcwd(), ds, 'annotations')\n",
        "        #image_path = os.path.join('/content/drive/My Drive/Datasets/Face-mask-detection/annotations')\n",
        "        image_path = os.path.join('/content/drive/My Drive/Error induced dataset/annotations')\n",
        "        #print(image_path)\n",
        "        xml_df = xml_to_csv(image_path)\n",
        "        #print(xml_df)\n",
        "        xml_df.to_csv('/content/drive/My Drive/Datasets/Face-mask-detection/labels_{}.csv'.format(ds), index=None)\n",
        "        print('Successfully converted xml to csv.')\n",
        "main()"
      ],
      "execution_count": null,
      "outputs": [
        {
          "output_type": "stream",
          "text": [
            "Successfully converted xml to csv.\n"
          ],
          "name": "stdout"
        }
      ]
    },
    {
      "cell_type": "markdown",
      "metadata": {
        "id": "RMxFTHLm3YEG"
      },
      "source": [
        "#***Load the Annotation CSV file into the dataframe ***"
      ]
    },
    {
      "cell_type": "code",
      "metadata": {
        "id": "cZr-gZkkzuZJ",
        "colab": {
          "base_uri": "https://localhost:8080/"
        },
        "outputId": "c8e69e65-57eb-4230-95db-919af216aa85"
      },
      "source": [
        "\n",
        "annotation_df=pd.read_csv('drive/My Drive/Datasets/Face-mask-detection/labels_All_images.csv')\n",
        "print(annotation_df)\n",
        "\n"
      ],
      "execution_count": null,
      "outputs": [
        {
          "output_type": "stream",
          "text": [
            "                 filename  width  height      class  xmin  ymin  xmax  ymax\n",
            "0       maksssksksss1.png    400     156  with_mask   321    34   354    69\n",
            "1       maksssksksss1.png    400     156  with_mask   224    38   261    73\n",
            "2       maksssksksss1.png    400     156  with_mask   299    58   315    81\n",
            "3       maksssksksss1.png    400     156  with_mask   143    74   174   115\n",
            "4       maksssksksss1.png    400     156  with_mask    74    69    95    99\n",
            "...                   ...    ...     ...        ...   ...   ...   ...   ...\n",
            "4067  maksssksksss849.png    400     236  with_mask   354    41   375    15\n",
            "4068  maksssksksss848.png    400     268  with_mask   141    58   141    78\n",
            "4069  maksssksksss848.png    400     268  with_mask   201    73   201    88\n",
            "4070  maksssksksss848.png    400     268  with_mask   348     8   377     8\n",
            "4071  maksssksksss848.png    400     268  with_mask   356    84   361    84\n",
            "\n",
            "[4072 rows x 8 columns]\n"
          ],
          "name": "stdout"
        }
      ]
    },
    {
      "cell_type": "markdown",
      "metadata": {
        "id": "Bx8QqU97V9RE"
      },
      "source": [
        "# Part 1: Data exploration and visualization"
      ]
    },
    {
      "cell_type": "markdown",
      "metadata": {
        "id": "inN_P4Yj0eDb"
      },
      "source": [
        "#***Exploratory Data Analysis thru Statistics and Data Visualization ***"
      ]
    },
    {
      "cell_type": "markdown",
      "metadata": {
        "id": "vSEha4hI3sQO"
      },
      "source": [
        "** Features creation**"
      ]
    },
    {
      "cell_type": "code",
      "metadata": {
        "id": "6rAsafY-39p_"
      },
      "source": [
        "annotation_df['bb_width']=annotation_df['xmax']-annotation_df['xmin']\n",
        "annotation_df['bb_height'] = annotation_df['ymax']-annotation_df['ymin']\n",
        "annotation_df['bb_area']=annotation_df['bb_width'] * annotation_df['bb_height']"
      ],
      "execution_count": null,
      "outputs": []
    },
    {
      "cell_type": "markdown",
      "metadata": {
        "id": "dBBSMgqwFxMg"
      },
      "source": [
        "**Basic Statistics**\n",
        "\n",
        "\n"
      ]
    },
    {
      "cell_type": "code",
      "metadata": {
        "id": "QBKHzHIT_cdn",
        "colab": {
          "base_uri": "https://localhost:8080/"
        },
        "outputId": "fbf83715-5965-43ce-ef74-a587a1881fe2"
      },
      "source": [
        "min(annotation_df['width'])"
      ],
      "execution_count": null,
      "outputs": [
        {
          "output_type": "execute_result",
          "data": {
            "text/plain": [
              "193"
            ]
          },
          "metadata": {
            "tags": []
          },
          "execution_count": 83
        }
      ]
    },
    {
      "cell_type": "code",
      "metadata": {
        "id": "JW2G0h_d_nu-",
        "colab": {
          "base_uri": "https://localhost:8080/"
        },
        "outputId": "e6a00401-fabc-4179-92e5-d1d8e2fc3080"
      },
      "source": [
        "max(annotation_df['width'])"
      ],
      "execution_count": null,
      "outputs": [
        {
          "output_type": "execute_result",
          "data": {
            "text/plain": [
              "600"
            ]
          },
          "metadata": {
            "tags": []
          },
          "execution_count": 84
        }
      ]
    },
    {
      "cell_type": "code",
      "metadata": {
        "id": "cD86NiLn_saB",
        "colab": {
          "base_uri": "https://localhost:8080/"
        },
        "outputId": "cb87df72-87ed-4776-bbf2-c4d90060aa6e"
      },
      "source": [
        "stats.median(annotation_df['width'])"
      ],
      "execution_count": null,
      "outputs": [
        {
          "output_type": "execute_result",
          "data": {
            "text/plain": [
              "400.0"
            ]
          },
          "metadata": {
            "tags": []
          },
          "execution_count": 85
        }
      ]
    },
    {
      "cell_type": "code",
      "metadata": {
        "id": "LFILRyCvAWEp",
        "colab": {
          "base_uri": "https://localhost:8080/"
        },
        "outputId": "a5e89936-178b-489d-d9a4-3944ed92c97b"
      },
      "source": [
        "stats.median(annotation_df['height'])"
      ],
      "execution_count": null,
      "outputs": [
        {
          "output_type": "execute_result",
          "data": {
            "text/plain": [
              "267.0"
            ]
          },
          "metadata": {
            "tags": []
          },
          "execution_count": 86
        }
      ]
    },
    {
      "cell_type": "code",
      "metadata": {
        "id": "-ye5hsGuU_Xf",
        "colab": {
          "base_uri": "https://localhost:8080/"
        },
        "outputId": "0d1a92b4-f1df-4248-b010-aa93c6efe09f"
      },
      "source": [
        "min(annotation_df['height'])"
      ],
      "execution_count": null,
      "outputs": [
        {
          "output_type": "execute_result",
          "data": {
            "text/plain": [
              "156"
            ]
          },
          "metadata": {
            "tags": []
          },
          "execution_count": 87
        }
      ]
    },
    {
      "cell_type": "code",
      "metadata": {
        "id": "lArl2BvLOrvi",
        "colab": {
          "base_uri": "https://localhost:8080/"
        },
        "outputId": "31818c2b-dd29-4da7-a917-05acf11f4739"
      },
      "source": [
        "max(annotation_df['height'])"
      ],
      "execution_count": null,
      "outputs": [
        {
          "output_type": "execute_result",
          "data": {
            "text/plain": [
              "600"
            ]
          },
          "metadata": {
            "tags": []
          },
          "execution_count": 88
        }
      ]
    },
    {
      "cell_type": "code",
      "metadata": {
        "id": "mAS7EZmHsIdz",
        "colab": {
          "base_uri": "https://localhost:8080/",
          "height": 287
        },
        "outputId": "e2b66430-98fd-4154-978b-88e3aae2bbeb"
      },
      "source": [
        "annotation_df.describe()"
      ],
      "execution_count": null,
      "outputs": [
        {
          "output_type": "execute_result",
          "data": {
            "text/html": [
              "<div>\n",
              "<style scoped>\n",
              "    .dataframe tbody tr th:only-of-type {\n",
              "        vertical-align: middle;\n",
              "    }\n",
              "\n",
              "    .dataframe tbody tr th {\n",
              "        vertical-align: top;\n",
              "    }\n",
              "\n",
              "    .dataframe thead th {\n",
              "        text-align: right;\n",
              "    }\n",
              "</style>\n",
              "<table border=\"1\" class=\"dataframe\">\n",
              "  <thead>\n",
              "    <tr style=\"text-align: right;\">\n",
              "      <th></th>\n",
              "      <th>width</th>\n",
              "      <th>height</th>\n",
              "      <th>xmin</th>\n",
              "      <th>ymin</th>\n",
              "      <th>xmax</th>\n",
              "      <th>ymax</th>\n",
              "      <th>bb_width</th>\n",
              "      <th>bb_height</th>\n",
              "      <th>bb_area</th>\n",
              "    </tr>\n",
              "  </thead>\n",
              "  <tbody>\n",
              "    <tr>\n",
              "      <th>count</th>\n",
              "      <td>4072.000</td>\n",
              "      <td>4072.000</td>\n",
              "      <td>4072.000</td>\n",
              "      <td>4072.00</td>\n",
              "      <td>4072.000</td>\n",
              "      <td>4072.000</td>\n",
              "      <td>4072.000</td>\n",
              "      <td>4072.000</td>\n",
              "      <td>4072.000</td>\n",
              "    </tr>\n",
              "    <tr>\n",
              "      <th>mean</th>\n",
              "      <td>393.703</td>\n",
              "      <td>270.124</td>\n",
              "      <td>182.269</td>\n",
              "      <td>85.81</td>\n",
              "      <td>213.293</td>\n",
              "      <td>120.747</td>\n",
              "      <td>31.025</td>\n",
              "      <td>34.937</td>\n",
              "      <td>1967.898</td>\n",
              "    </tr>\n",
              "    <tr>\n",
              "      <th>std</th>\n",
              "      <td>35.412</td>\n",
              "      <td>52.340</td>\n",
              "      <td>104.441</td>\n",
              "      <td>52.55</td>\n",
              "      <td>102.764</td>\n",
              "      <td>70.399</td>\n",
              "      <td>28.095</td>\n",
              "      <td>32.700</td>\n",
              "      <td>4697.649</td>\n",
              "    </tr>\n",
              "    <tr>\n",
              "      <th>min</th>\n",
              "      <td>193.000</td>\n",
              "      <td>156.000</td>\n",
              "      <td>1.000</td>\n",
              "      <td>1.00</td>\n",
              "      <td>8.000</td>\n",
              "      <td>6.000</td>\n",
              "      <td>-90.000</td>\n",
              "      <td>-31.000</td>\n",
              "      <td>-11250.000</td>\n",
              "    </tr>\n",
              "    <tr>\n",
              "      <th>25%</th>\n",
              "      <td>400.000</td>\n",
              "      <td>226.000</td>\n",
              "      <td>96.000</td>\n",
              "      <td>49.00</td>\n",
              "      <td>134.000</td>\n",
              "      <td>73.000</td>\n",
              "      <td>14.000</td>\n",
              "      <td>16.000</td>\n",
              "      <td>225.000</td>\n",
              "    </tr>\n",
              "    <tr>\n",
              "      <th>50%</th>\n",
              "      <td>400.000</td>\n",
              "      <td>267.000</td>\n",
              "      <td>177.000</td>\n",
              "      <td>75.00</td>\n",
              "      <td>212.000</td>\n",
              "      <td>103.000</td>\n",
              "      <td>22.000</td>\n",
              "      <td>24.000</td>\n",
              "      <td>528.000</td>\n",
              "    </tr>\n",
              "    <tr>\n",
              "      <th>75%</th>\n",
              "      <td>400.000</td>\n",
              "      <td>281.000</td>\n",
              "      <td>266.000</td>\n",
              "      <td>113.00</td>\n",
              "      <td>292.000</td>\n",
              "      <td>148.000</td>\n",
              "      <td>36.000</td>\n",
              "      <td>40.000</td>\n",
              "      <td>1369.000</td>\n",
              "    </tr>\n",
              "    <tr>\n",
              "      <th>max</th>\n",
              "      <td>600.000</td>\n",
              "      <td>600.000</td>\n",
              "      <td>569.000</td>\n",
              "      <td>330.00</td>\n",
              "      <td>592.000</td>\n",
              "      <td>495.000</td>\n",
              "      <td>317.000</td>\n",
              "      <td>340.000</td>\n",
              "      <td>106829.000</td>\n",
              "    </tr>\n",
              "  </tbody>\n",
              "</table>\n",
              "</div>"
            ],
            "text/plain": [
              "          width    height      xmin  ...  bb_width  bb_height     bb_area\n",
              "count  4072.000  4072.000  4072.000  ...  4072.000   4072.000    4072.000\n",
              "mean    393.703   270.124   182.269  ...    31.025     34.937    1967.898\n",
              "std      35.412    52.340   104.441  ...    28.095     32.700    4697.649\n",
              "min     193.000   156.000     1.000  ...   -90.000    -31.000  -11250.000\n",
              "25%     400.000   226.000    96.000  ...    14.000     16.000     225.000\n",
              "50%     400.000   267.000   177.000  ...    22.000     24.000     528.000\n",
              "75%     400.000   281.000   266.000  ...    36.000     40.000    1369.000\n",
              "max     600.000   600.000   569.000  ...   317.000    340.000  106829.000\n",
              "\n",
              "[8 rows x 9 columns]"
            ]
          },
          "metadata": {
            "tags": []
          },
          "execution_count": 89
        }
      ]
    },
    {
      "cell_type": "markdown",
      "metadata": {
        "id": "FAomTxQ5FoFj"
      },
      "source": [
        "**Image width * height distribution**"
      ]
    },
    {
      "cell_type": "code",
      "metadata": {
        "id": "5ht7m5oH8_xu",
        "colab": {
          "base_uri": "https://localhost:8080/",
          "height": 554
        },
        "outputId": "dccbec28-eaf6-45bf-a4af-14f76380355f"
      },
      "source": [
        "plt.figure(figsize=(12, 9))\n",
        "plt.scatter(annotation_df['width'], annotation_df['height'],  alpha=0.5)"
      ],
      "execution_count": null,
      "outputs": [
        {
          "output_type": "execute_result",
          "data": {
            "text/plain": [
              "<matplotlib.collections.PathCollection at 0x7f3d53280b70>"
            ]
          },
          "metadata": {
            "tags": []
          },
          "execution_count": 90
        },
        {
          "output_type": "display_data",
          "data": {
            "image/png": "[encoded data removed]",
            "text/plain": [
              "<Figure size 864x648 with 1 Axes>"
            ]
          },
          "metadata": {
            "tags": [],
            "needs_background": "light"
          }
        }
      ]
    },
    {
      "cell_type": "markdown",
      "metadata": {
        "id": "vS2TjBWWFIzd"
      },
      "source": [
        "**Bounding box width x height distribution**"
      ]
    },
    {
      "cell_type": "code",
      "metadata": {
        "id": "RqSlZcd4-qFK",
        "colab": {
          "base_uri": "https://localhost:8080/",
          "height": 554
        },
        "outputId": "73d6e7a3-4166-400d-f9f2-d2dc99dfa0f6"
      },
      "source": [
        "plt.figure(figsize=(12, 9))\n",
        "plt.scatter(annotation_df['bb_width'], annotation_df['bb_height'],  alpha=0.5)"
      ],
      "execution_count": null,
      "outputs": [
        {
          "output_type": "execute_result",
          "data": {
            "text/plain": [
              "<matplotlib.collections.PathCollection at 0x7f3d0aa13630>"
            ]
          },
          "metadata": {
            "tags": []
          },
          "execution_count": 91
        },
        {
          "output_type": "display_data",
          "data": {
            "image/png": "[encoded data removed]",
            "text/plain": [
              "<Figure size 864x648 with 1 Axes>"
            ]
          },
          "metadata": {
            "tags": [],
            "needs_background": "light"
          }
        }
      ]
    },
    {
      "cell_type": "markdown",
      "metadata": {
        "id": "g2r8LFtMvN37"
      },
      "source": [
        "\n",
        "\n",
        "**Skewness**"
      ]
    },
    {
      "cell_type": "code",
      "metadata": {
        "id": "fdIGbj_HqIi5"
      },
      "source": [
        "sns.kdeplot(annotation_df['width'],color='b')\n",
        "plt.show()\n",
        "sns.kdeplot(annotation_df['height'],color='g')\n",
        "plt.show()\n",
        "sns.kdeplot(annotation_df['bb_width'],color='c')\n",
        "plt.show()\n",
        "sns.kdeplot(annotation_df['bb_height'],color='y')\n",
        "plt.show()\n",
        "\n",
        "\n",
        "\n",
        "\n"
      ],
      "execution_count": null,
      "outputs": []
    },
    {
      "cell_type": "code",
      "metadata": {
        "id": "9nxlGFt03GNm",
        "colab": {
          "base_uri": "https://localhost:8080/",
          "height": 1000
        },
        "outputId": "229c5f5e-d8dd-4e56-d724-5ca6af7ef15c"
      },
      "source": [
        "sns.kdeplot(annotation_df['xmin'],color='b')\n",
        "plt.show()\n",
        "sns.kdeplot(annotation_df['xmax'],color='g')\n",
        "plt.show()\n",
        "sns.kdeplot(annotation_df['ymin'],color='c')\n",
        "plt.show()\n",
        "sns.kdeplot(annotation_df['ymax'],color='y')\n",
        "plt.show()\n"
      ],
      "execution_count": null,
      "outputs": [
        {
          "output_type": "display_data",
          "data": {
            "image/png": "[encoded data removed]",
            "text/plain": [
              "<Figure size 432x288 with 1 Axes>"
            ]
          },
          "metadata": {
            "tags": [],
            "needs_background": "light"
          }
        },
        {
          "output_type": "display_data",
          "data": {
            "image/png": "[encoded data removed]",
            "text/plain": [
              "<Figure size 432x288 with 1 Axes>"
            ]
          },
          "metadata": {
            "tags": [],
            "needs_background": "light"
          }
        },
        {
          "output_type": "display_data",
          "data": {
            "image/png": "[encoded data removed]",
            "text/plain": [
              "<Figure size 432x288 with 1 Axes>"
            ]
          },
          "metadata": {
            "tags": [],
            "needs_background": "light"
          }
        },
        {
          "output_type": "display_data",
          "data": {
            "image/png": "[encoded data removed]",
            "text/plain": [
              "<Figure size 432x288 with 1 Axes>"
            ]
          },
          "metadata": {
            "tags": [],
            "needs_background": "light"
          }
        }
      ]
    },
    {
      "cell_type": "markdown",
      "metadata": {
        "id": "x3FUm3DnywQf"
      },
      "source": [
        ""
      ]
    },
    {
      "cell_type": "markdown",
      "metadata": {
        "id": "z8mec58GGBLV"
      },
      "source": [
        "**Dataset Class distribution - With Mask, Without Mask and mask weared incorrectly**"
      ]
    },
    {
      "cell_type": "code",
      "metadata": {
        "id": "-IdDE3FdED12",
        "colab": {
          "base_uri": "https://localhost:8080/",
          "height": 608
        },
        "outputId": "2d584058-4156-49c4-ba16-25ed0af7308b"
      },
      "source": [
        "plt.figure(figsize=(12, 9))\n",
        "plt.hist(annotation_df['class'])\n"
      ],
      "execution_count": null,
      "outputs": [
        {
          "output_type": "execute_result",
          "data": {
            "text/plain": [
              "(array([3232.,    0.,    0.,    0.,    0.,  717.,    0.,    0.,    0.,\n",
              "         123.]),\n",
              " array([0. , 0.2, 0.4, 0.6, 0.8, 1. , 1.2, 1.4, 1.6, 1.8, 2. ]),\n",
              " <a list of 10 Patch objects>)"
            ]
          },
          "metadata": {
            "tags": []
          },
          "execution_count": 93
        },
        {
          "output_type": "display_data",
          "data": {
            "image/png": "[encoded data removed]",
            "text/plain": [
              "<Figure size 864x648 with 1 Axes>"
            ]
          },
          "metadata": {
            "tags": [],
            "needs_background": "light"
          }
        }
      ]
    },
    {
      "cell_type": "markdown",
      "metadata": {
        "id": "AjyYURM0vYhi"
      },
      "source": [
        "**Correlation**"
      ]
    },
    {
      "cell_type": "code",
      "metadata": {
        "id": "wttWX-N2sahf",
        "colab": {
          "base_uri": "https://localhost:8080/",
          "height": 317
        },
        "outputId": "254caa7f-e62f-4d3f-be9b-b8c13d9c7706"
      },
      "source": [
        "pd.set_option('precision',3)\n",
        "annotation_df.corr(method='pearson')"
      ],
      "execution_count": null,
      "outputs": [
        {
          "output_type": "execute_result",
          "data": {
            "text/html": [
              "<div>\n",
              "<style scoped>\n",
              "    .dataframe tbody tr th:only-of-type {\n",
              "        vertical-align: middle;\n",
              "    }\n",
              "\n",
              "    .dataframe tbody tr th {\n",
              "        vertical-align: top;\n",
              "    }\n",
              "\n",
              "    .dataframe thead th {\n",
              "        text-align: right;\n",
              "    }\n",
              "</style>\n",
              "<table border=\"1\" class=\"dataframe\">\n",
              "  <thead>\n",
              "    <tr style=\"text-align: right;\">\n",
              "      <th></th>\n",
              "      <th>width</th>\n",
              "      <th>height</th>\n",
              "      <th>xmin</th>\n",
              "      <th>ymin</th>\n",
              "      <th>xmax</th>\n",
              "      <th>ymax</th>\n",
              "      <th>bb_width</th>\n",
              "      <th>bb_height</th>\n",
              "      <th>bb_area</th>\n",
              "    </tr>\n",
              "  </thead>\n",
              "  <tbody>\n",
              "    <tr>\n",
              "      <th>width</th>\n",
              "      <td>1.000</td>\n",
              "      <td>-0.499</td>\n",
              "      <td>0.224</td>\n",
              "      <td>-0.282</td>\n",
              "      <td>0.150</td>\n",
              "      <td>-0.371</td>\n",
              "      <td>-0.284</td>\n",
              "      <td>-0.345</td>\n",
              "      <td>-0.237</td>\n",
              "    </tr>\n",
              "    <tr>\n",
              "      <th>height</th>\n",
              "      <td>-0.499</td>\n",
              "      <td>1.000</td>\n",
              "      <td>-0.163</td>\n",
              "      <td>0.434</td>\n",
              "      <td>-0.019</td>\n",
              "      <td>0.590</td>\n",
              "      <td>0.534</td>\n",
              "      <td>0.573</td>\n",
              "      <td>0.516</td>\n",
              "    </tr>\n",
              "    <tr>\n",
              "      <th>xmin</th>\n",
              "      <td>0.224</td>\n",
              "      <td>-0.163</td>\n",
              "      <td>1.000</td>\n",
              "      <td>-0.131</td>\n",
              "      <td>0.963</td>\n",
              "      <td>-0.190</td>\n",
              "      <td>-0.194</td>\n",
              "      <td>-0.198</td>\n",
              "      <td>-0.166</td>\n",
              "    </tr>\n",
              "    <tr>\n",
              "      <th>ymin</th>\n",
              "      <td>-0.282</td>\n",
              "      <td>0.434</td>\n",
              "      <td>-0.131</td>\n",
              "      <td>1.000</td>\n",
              "      <td>-0.051</td>\n",
              "      <td>0.899</td>\n",
              "      <td>0.303</td>\n",
              "      <td>0.327</td>\n",
              "      <td>0.250</td>\n",
              "    </tr>\n",
              "    <tr>\n",
              "      <th>xmax</th>\n",
              "      <td>0.150</td>\n",
              "      <td>-0.019</td>\n",
              "      <td>0.963</td>\n",
              "      <td>-0.051</td>\n",
              "      <td>1.000</td>\n",
              "      <td>-0.009</td>\n",
              "      <td>0.076</td>\n",
              "      <td>0.062</td>\n",
              "      <td>0.077</td>\n",
              "    </tr>\n",
              "    <tr>\n",
              "      <th>ymax</th>\n",
              "      <td>-0.371</td>\n",
              "      <td>0.590</td>\n",
              "      <td>-0.190</td>\n",
              "      <td>0.899</td>\n",
              "      <td>-0.009</td>\n",
              "      <td>1.000</td>\n",
              "      <td>0.673</td>\n",
              "      <td>0.709</td>\n",
              "      <td>0.603</td>\n",
              "    </tr>\n",
              "    <tr>\n",
              "      <th>bb_width</th>\n",
              "      <td>-0.284</td>\n",
              "      <td>0.534</td>\n",
              "      <td>-0.194</td>\n",
              "      <td>0.303</td>\n",
              "      <td>0.076</td>\n",
              "      <td>0.673</td>\n",
              "      <td>1.000</td>\n",
              "      <td>0.962</td>\n",
              "      <td>0.897</td>\n",
              "    </tr>\n",
              "    <tr>\n",
              "      <th>bb_height</th>\n",
              "      <td>-0.345</td>\n",
              "      <td>0.573</td>\n",
              "      <td>-0.198</td>\n",
              "      <td>0.327</td>\n",
              "      <td>0.062</td>\n",
              "      <td>0.709</td>\n",
              "      <td>0.962</td>\n",
              "      <td>1.000</td>\n",
              "      <td>0.896</td>\n",
              "    </tr>\n",
              "    <tr>\n",
              "      <th>bb_area</th>\n",
              "      <td>-0.237</td>\n",
              "      <td>0.516</td>\n",
              "      <td>-0.166</td>\n",
              "      <td>0.250</td>\n",
              "      <td>0.077</td>\n",
              "      <td>0.603</td>\n",
              "      <td>0.897</td>\n",
              "      <td>0.896</td>\n",
              "      <td>1.000</td>\n",
              "    </tr>\n",
              "  </tbody>\n",
              "</table>\n",
              "</div>"
            ],
            "text/plain": [
              "           width  height   xmin   ymin  ...   ymax  bb_width  bb_height  bb_area\n",
              "width      1.000  -0.499  0.224 -0.282  ... -0.371    -0.284     -0.345   -0.237\n",
              "height    -0.499   1.000 -0.163  0.434  ...  0.590     0.534      0.573    0.516\n",
              "xmin       0.224  -0.163  1.000 -0.131  ... -0.190    -0.194     -0.198   -0.166\n",
              "ymin      -0.282   0.434 -0.131  1.000  ...  0.899     0.303      0.327    0.250\n",
              "xmax       0.150  -0.019  0.963 -0.051  ... -0.009     0.076      0.062    0.077\n",
              "ymax      -0.371   0.590 -0.190  0.899  ...  1.000     0.673      0.709    0.603\n",
              "bb_width  -0.284   0.534 -0.194  0.303  ...  0.673     1.000      0.962    0.897\n",
              "bb_height -0.345   0.573 -0.198  0.327  ...  0.709     0.962      1.000    0.896\n",
              "bb_area   -0.237   0.516 -0.166  0.250  ...  0.603     0.897      0.896    1.000\n",
              "\n",
              "[9 rows x 9 columns]"
            ]
          },
          "metadata": {
            "tags": []
          },
          "execution_count": 94
        }
      ]
    },
    {
      "cell_type": "markdown",
      "metadata": {
        "id": "X6nLs0LIGeTc"
      },
      "source": [
        "**Heatmap to visualize and understand where bounding boxes are concentrated.**"
      ]
    },
    {
      "cell_type": "code",
      "metadata": {
        "id": "arom_xr47z0m"
      },
      "source": [
        "coordinateList=[]\n",
        "coordinate_df = pd.DataFrame(columns = ['x', 'y'])\n",
        "\n",
        "def findcoordinates(row):\n",
        "\n",
        "  #print(row['filename'])\n",
        "  i=row[\"xmin\"]\n",
        "  while i < row['xmax']:\n",
        "      j=row['ymin']\n",
        "      while j < row['ymax']:\n",
        "            coordinateList.append((i,j))\n",
        "            j=j+1\n",
        "      i=i+1\n",
        "   \n"
      ],
      "execution_count": null,
      "outputs": []
    },
    {
      "cell_type": "code",
      "metadata": {
        "id": "mY7PUMJsFspu",
        "colab": {
          "base_uri": "https://localhost:8080/"
        },
        "outputId": "df82db1c-54af-43db-9b80-6977ddbd2f1e"
      },
      "source": [
        "annotation_df.apply(findcoordinates,axis=1)"
      ],
      "execution_count": null,
      "outputs": [
        {
          "output_type": "execute_result",
          "data": {
            "text/plain": [
              "0       None\n",
              "1       None\n",
              "2       None\n",
              "3       None\n",
              "4       None\n",
              "        ... \n",
              "4067    None\n",
              "4068    None\n",
              "4069    None\n",
              "4070    None\n",
              "4071    None\n",
              "Length: 4072, dtype: object"
            ]
          },
          "metadata": {
            "tags": []
          },
          "execution_count": 96
        }
      ]
    },
    {
      "cell_type": "code",
      "metadata": {
        "id": "D4xq_Uh4DetY"
      },
      "source": [
        "coordinate_df = pd.DataFrame(coordinateList,columns = ['x', 'y'])\n",
        "occurance_df = coordinate_df.groupby(['x', 'y']).size().reset_index(name='counts')"
      ],
      "execution_count": null,
      "outputs": []
    },
    {
      "cell_type": "code",
      "metadata": {
        "id": "P7ED2eDfKJpt"
      },
      "source": [
        "occurance_df=occurance_df.set_index(['x','y'])  "
      ],
      "execution_count": null,
      "outputs": []
    },
    {
      "cell_type": "code",
      "metadata": {
        "id": "y7JBk4WIp6eG"
      },
      "source": [
        "rows, cols = (max(annotation_df['width']), max(annotation_df['height']))\n",
        "imagexy = np.zeros((600,600))\n"
      ],
      "execution_count": null,
      "outputs": []
    },
    {
      "cell_type": "code",
      "metadata": {
        "id": "Z5yIV7_BlbAk"
      },
      "source": [
        "for i in range(rows):\n",
        "        for j in range(cols):\n",
        "           try:\n",
        "               #print(i,j)  \n",
        "               #print(occurance_df.loc[i,j]['counts'])\n",
        "               imagexy[i][j]=occurance_df.loc[i,j]['counts']\n",
        "               #print(imagexy[i][j])\n",
        "           except KeyError:\n",
        "                imagexy[i][j]=0\n",
        "                pass\n",
        "           "
      ],
      "execution_count": null,
      "outputs": []
    },
    {
      "cell_type": "code",
      "metadata": {
        "id": "Q2cAgVVPVEdL",
        "colab": {
          "base_uri": "https://localhost:8080/",
          "height": 567
        },
        "outputId": "2c0d635e-ec01-42ef-cd7a-2e8a45070709"
      },
      "source": [
        "plt.figure(figsize=(12, 9))\n",
        "sns.heatmap(imagexy)"
      ],
      "execution_count": null,
      "outputs": [
        {
          "output_type": "execute_result",
          "data": {
            "text/plain": [
              "<matplotlib.axes._subplots.AxesSubplot at 0x7f3d0a9ca668>"
            ]
          },
          "metadata": {
            "tags": []
          },
          "execution_count": 101
        },
        {
          "output_type": "display_data",
          "data": {
            "image/png": "[encoded data removed]",
            "text/plain": [
              "<Figure size 864x648 with 2 Axes>"
            ]
          },
          "metadata": {
            "tags": [],
            "needs_background": "light"
          }
        }
      ]
    },
    {
      "cell_type": "code",
      "metadata": {
        "id": "Rji6Xq3uI1mD"
      },
      "source": [
        ""
      ],
      "execution_count": null,
      "outputs": []
    },
    {
      "cell_type": "markdown",
      "metadata": {
        "id": "4HgcN-TJWHcU"
      },
      "source": [
        "# Part 2: Data cleaning and transformation"
      ]
    },
    {
      "cell_type": "markdown",
      "metadata": {
        "id": "OySY8m6b6X0R"
      },
      "source": [
        "## Check the data for null values"
      ]
    },
    {
      "cell_type": "code",
      "metadata": {
        "id": "6YJcdzwE6QiL",
        "colab": {
          "base_uri": "https://localhost:8080/"
        },
        "outputId": "39304de3-78e6-4a05-a119-4401ee84a335"
      },
      "source": [
        "annotation_df.isnull().sum()"
      ],
      "execution_count": null,
      "outputs": [
        {
          "output_type": "execute_result",
          "data": {
            "text/plain": [
              "filename     0\n",
              "width        0\n",
              "height       0\n",
              "class        0\n",
              "xmin         0\n",
              "ymin         0\n",
              "xmax         0\n",
              "ymax         0\n",
              "bb_width     0\n",
              "bb_height    0\n",
              "bb_area      0\n",
              "dtype: int64"
            ]
          },
          "metadata": {
            "tags": []
          },
          "execution_count": 102
        }
      ]
    },
    {
      "cell_type": "code",
      "metadata": {
        "id": "gHIMPG8_6kY-",
        "colab": {
          "base_uri": "https://localhost:8080/"
        },
        "outputId": "22cac209-1184-426f-e0f3-44fe29a63e8a"
      },
      "source": [
        "annotation_df.shape"
      ],
      "execution_count": null,
      "outputs": [
        {
          "output_type": "execute_result",
          "data": {
            "text/plain": [
              "(4072, 11)"
            ]
          },
          "metadata": {
            "tags": []
          },
          "execution_count": 103
        }
      ]
    },
    {
      "cell_type": "code",
      "metadata": {
        "id": "SvwpZtQk6qrO"
      },
      "source": [
        "annotation_df[\"bb_width\"] = annotation_df[\"bb_width\"].map(lambda x:x if x != 0 else None)\n",
        "annotation_df[\"bb_height\"] = annotation_df[\"bb_height\"].map(lambda x:x if x != 0 else None)\n",
        "annotation_df[\"bb_area\"] = annotation_df[\"bb_area\"].map(lambda x:x if x != 0 else None)"
      ],
      "execution_count": null,
      "outputs": []
    },
    {
      "cell_type": "code",
      "metadata": {
        "id": "n3K484rO6ulf",
        "colab": {
          "base_uri": "https://localhost:8080/"
        },
        "outputId": "be69ecc0-76c6-41b0-ec48-d909e7b2735f"
      },
      "source": [
        "annotation_df.isnull().sum()"
      ],
      "execution_count": null,
      "outputs": [
        {
          "output_type": "execute_result",
          "data": {
            "text/plain": [
              "filename     0\n",
              "width        0\n",
              "height       0\n",
              "class        0\n",
              "xmin         0\n",
              "ymin         0\n",
              "xmax         0\n",
              "ymax         0\n",
              "bb_width     2\n",
              "bb_height    2\n",
              "bb_area      4\n",
              "dtype: int64"
            ]
          },
          "metadata": {
            "tags": []
          },
          "execution_count": 105
        }
      ]
    },
    {
      "cell_type": "code",
      "metadata": {
        "id": "1O1sm_uJ6xSD",
        "colab": {
          "base_uri": "https://localhost:8080/",
          "height": 406
        },
        "outputId": "0d51b61b-d4fb-4e89-902c-a1466f7aa18f"
      },
      "source": [
        "annotation_df = annotation_df.dropna()\n",
        "annotation_df"
      ],
      "execution_count": null,
      "outputs": [
        {
          "output_type": "execute_result",
          "data": {
            "text/html": [
              "<div>\n",
              "<style scoped>\n",
              "    .dataframe tbody tr th:only-of-type {\n",
              "        vertical-align: middle;\n",
              "    }\n",
              "\n",
              "    .dataframe tbody tr th {\n",
              "        vertical-align: top;\n",
              "    }\n",
              "\n",
              "    .dataframe thead th {\n",
              "        text-align: right;\n",
              "    }\n",
              "</style>\n",
              "<table border=\"1\" class=\"dataframe\">\n",
              "  <thead>\n",
              "    <tr style=\"text-align: right;\">\n",
              "      <th></th>\n",
              "      <th>filename</th>\n",
              "      <th>width</th>\n",
              "      <th>height</th>\n",
              "      <th>class</th>\n",
              "      <th>xmin</th>\n",
              "      <th>ymin</th>\n",
              "      <th>xmax</th>\n",
              "      <th>ymax</th>\n",
              "      <th>bb_width</th>\n",
              "      <th>bb_height</th>\n",
              "      <th>bb_area</th>\n",
              "    </tr>\n",
              "  </thead>\n",
              "  <tbody>\n",
              "    <tr>\n",
              "      <th>0</th>\n",
              "      <td>maksssksksss1.png</td>\n",
              "      <td>400</td>\n",
              "      <td>156</td>\n",
              "      <td>with_mask</td>\n",
              "      <td>321</td>\n",
              "      <td>34</td>\n",
              "      <td>354</td>\n",
              "      <td>69</td>\n",
              "      <td>33.0</td>\n",
              "      <td>35.0</td>\n",
              "      <td>1155.0</td>\n",
              "    </tr>\n",
              "    <tr>\n",
              "      <th>1</th>\n",
              "      <td>maksssksksss1.png</td>\n",
              "      <td>400</td>\n",
              "      <td>156</td>\n",
              "      <td>with_mask</td>\n",
              "      <td>224</td>\n",
              "      <td>38</td>\n",
              "      <td>261</td>\n",
              "      <td>73</td>\n",
              "      <td>37.0</td>\n",
              "      <td>35.0</td>\n",
              "      <td>1295.0</td>\n",
              "    </tr>\n",
              "    <tr>\n",
              "      <th>2</th>\n",
              "      <td>maksssksksss1.png</td>\n",
              "      <td>400</td>\n",
              "      <td>156</td>\n",
              "      <td>with_mask</td>\n",
              "      <td>299</td>\n",
              "      <td>58</td>\n",
              "      <td>315</td>\n",
              "      <td>81</td>\n",
              "      <td>16.0</td>\n",
              "      <td>23.0</td>\n",
              "      <td>368.0</td>\n",
              "    </tr>\n",
              "    <tr>\n",
              "      <th>3</th>\n",
              "      <td>maksssksksss1.png</td>\n",
              "      <td>400</td>\n",
              "      <td>156</td>\n",
              "      <td>with_mask</td>\n",
              "      <td>143</td>\n",
              "      <td>74</td>\n",
              "      <td>174</td>\n",
              "      <td>115</td>\n",
              "      <td>31.0</td>\n",
              "      <td>41.0</td>\n",
              "      <td>1271.0</td>\n",
              "    </tr>\n",
              "    <tr>\n",
              "      <th>4</th>\n",
              "      <td>maksssksksss1.png</td>\n",
              "      <td>400</td>\n",
              "      <td>156</td>\n",
              "      <td>with_mask</td>\n",
              "      <td>74</td>\n",
              "      <td>69</td>\n",
              "      <td>95</td>\n",
              "      <td>99</td>\n",
              "      <td>21.0</td>\n",
              "      <td>30.0</td>\n",
              "      <td>630.0</td>\n",
              "    </tr>\n",
              "    <tr>\n",
              "      <th>...</th>\n",
              "      <td>...</td>\n",
              "      <td>...</td>\n",
              "      <td>...</td>\n",
              "      <td>...</td>\n",
              "      <td>...</td>\n",
              "      <td>...</td>\n",
              "      <td>...</td>\n",
              "      <td>...</td>\n",
              "      <td>...</td>\n",
              "      <td>...</td>\n",
              "      <td>...</td>\n",
              "    </tr>\n",
              "    <tr>\n",
              "      <th>4063</th>\n",
              "      <td>maksssksksss850.png</td>\n",
              "      <td>400</td>\n",
              "      <td>200</td>\n",
              "      <td>with_mask</td>\n",
              "      <td>323</td>\n",
              "      <td>78</td>\n",
              "      <td>351</td>\n",
              "      <td>47</td>\n",
              "      <td>28.0</td>\n",
              "      <td>-31.0</td>\n",
              "      <td>-868.0</td>\n",
              "    </tr>\n",
              "    <tr>\n",
              "      <th>4064</th>\n",
              "      <td>maksssksksss849.png</td>\n",
              "      <td>400</td>\n",
              "      <td>236</td>\n",
              "      <td>with_mask</td>\n",
              "      <td>48</td>\n",
              "      <td>70</td>\n",
              "      <td>67</td>\n",
              "      <td>52</td>\n",
              "      <td>19.0</td>\n",
              "      <td>-18.0</td>\n",
              "      <td>-342.0</td>\n",
              "    </tr>\n",
              "    <tr>\n",
              "      <th>4065</th>\n",
              "      <td>maksssksksss849.png</td>\n",
              "      <td>400</td>\n",
              "      <td>236</td>\n",
              "      <td>with_mask</td>\n",
              "      <td>95</td>\n",
              "      <td>36</td>\n",
              "      <td>109</td>\n",
              "      <td>20</td>\n",
              "      <td>14.0</td>\n",
              "      <td>-16.0</td>\n",
              "      <td>-224.0</td>\n",
              "    </tr>\n",
              "    <tr>\n",
              "      <th>4066</th>\n",
              "      <td>maksssksksss849.png</td>\n",
              "      <td>400</td>\n",
              "      <td>236</td>\n",
              "      <td>with_mask</td>\n",
              "      <td>213</td>\n",
              "      <td>50</td>\n",
              "      <td>231</td>\n",
              "      <td>29</td>\n",
              "      <td>18.0</td>\n",
              "      <td>-21.0</td>\n",
              "      <td>-378.0</td>\n",
              "    </tr>\n",
              "    <tr>\n",
              "      <th>4067</th>\n",
              "      <td>maksssksksss849.png</td>\n",
              "      <td>400</td>\n",
              "      <td>236</td>\n",
              "      <td>with_mask</td>\n",
              "      <td>354</td>\n",
              "      <td>41</td>\n",
              "      <td>375</td>\n",
              "      <td>15</td>\n",
              "      <td>21.0</td>\n",
              "      <td>-26.0</td>\n",
              "      <td>-546.0</td>\n",
              "    </tr>\n",
              "  </tbody>\n",
              "</table>\n",
              "<p>4068 rows × 11 columns</p>\n",
              "</div>"
            ],
            "text/plain": [
              "                 filename  width  height  ... bb_width  bb_height  bb_area\n",
              "0       maksssksksss1.png    400     156  ...     33.0       35.0   1155.0\n",
              "1       maksssksksss1.png    400     156  ...     37.0       35.0   1295.0\n",
              "2       maksssksksss1.png    400     156  ...     16.0       23.0    368.0\n",
              "3       maksssksksss1.png    400     156  ...     31.0       41.0   1271.0\n",
              "4       maksssksksss1.png    400     156  ...     21.0       30.0    630.0\n",
              "...                   ...    ...     ...  ...      ...        ...      ...\n",
              "4063  maksssksksss850.png    400     200  ...     28.0      -31.0   -868.0\n",
              "4064  maksssksksss849.png    400     236  ...     19.0      -18.0   -342.0\n",
              "4065  maksssksksss849.png    400     236  ...     14.0      -16.0   -224.0\n",
              "4066  maksssksksss849.png    400     236  ...     18.0      -21.0   -378.0\n",
              "4067  maksssksksss849.png    400     236  ...     21.0      -26.0   -546.0\n",
              "\n",
              "[4068 rows x 11 columns]"
            ]
          },
          "metadata": {
            "tags": []
          },
          "execution_count": 106
        }
      ]
    },
    {
      "cell_type": "code",
      "metadata": {
        "id": "x3qYKj1Y6zzC",
        "colab": {
          "base_uri": "https://localhost:8080/"
        },
        "outputId": "2f2e0c61-a086-48eb-8200-11b9e1eb1778"
      },
      "source": [
        "annotation_df.shape"
      ],
      "execution_count": null,
      "outputs": [
        {
          "output_type": "execute_result",
          "data": {
            "text/plain": [
              "(4068, 11)"
            ]
          },
          "metadata": {
            "tags": []
          },
          "execution_count": 107
        }
      ]
    },
    {
      "cell_type": "markdown",
      "metadata": {
        "id": "sxD7avNr62gu"
      },
      "source": [
        "Thus, the dataset had 4 null entries which were removed"
      ]
    },
    {
      "cell_type": "markdown",
      "metadata": {
        "id": "_Bo2DkSm68lr"
      },
      "source": [
        "# Removing Incorrect Values"
      ]
    },
    {
      "cell_type": "markdown",
      "metadata": {
        "id": "coapHrTQ7EQZ"
      },
      "source": [
        "## Removing entries where bb_width < 0 i.e. xmax < xmin"
      ]
    },
    {
      "cell_type": "code",
      "metadata": {
        "id": "Nt0lf2Ne7Dg_",
        "colab": {
          "base_uri": "https://localhost:8080/",
          "height": 406
        },
        "outputId": "f8612bd9-6c28-4478-96d4-d8fd7445485c"
      },
      "source": [
        "annotation_df = annotation_df.loc[lambda annotation_df: annotation_df[\"bb_width\"] > 0]\n",
        "annotation_df"
      ],
      "execution_count": null,
      "outputs": [
        {
          "output_type": "execute_result",
          "data": {
            "text/html": [
              "<div>\n",
              "<style scoped>\n",
              "    .dataframe tbody tr th:only-of-type {\n",
              "        vertical-align: middle;\n",
              "    }\n",
              "\n",
              "    .dataframe tbody tr th {\n",
              "        vertical-align: top;\n",
              "    }\n",
              "\n",
              "    .dataframe thead th {\n",
              "        text-align: right;\n",
              "    }\n",
              "</style>\n",
              "<table border=\"1\" class=\"dataframe\">\n",
              "  <thead>\n",
              "    <tr style=\"text-align: right;\">\n",
              "      <th></th>\n",
              "      <th>filename</th>\n",
              "      <th>width</th>\n",
              "      <th>height</th>\n",
              "      <th>class</th>\n",
              "      <th>xmin</th>\n",
              "      <th>ymin</th>\n",
              "      <th>xmax</th>\n",
              "      <th>ymax</th>\n",
              "      <th>bb_width</th>\n",
              "      <th>bb_height</th>\n",
              "      <th>bb_area</th>\n",
              "    </tr>\n",
              "  </thead>\n",
              "  <tbody>\n",
              "    <tr>\n",
              "      <th>0</th>\n",
              "      <td>maksssksksss1.png</td>\n",
              "      <td>400</td>\n",
              "      <td>156</td>\n",
              "      <td>with_mask</td>\n",
              "      <td>321</td>\n",
              "      <td>34</td>\n",
              "      <td>354</td>\n",
              "      <td>69</td>\n",
              "      <td>33.0</td>\n",
              "      <td>35.0</td>\n",
              "      <td>1155.0</td>\n",
              "    </tr>\n",
              "    <tr>\n",
              "      <th>1</th>\n",
              "      <td>maksssksksss1.png</td>\n",
              "      <td>400</td>\n",
              "      <td>156</td>\n",
              "      <td>with_mask</td>\n",
              "      <td>224</td>\n",
              "      <td>38</td>\n",
              "      <td>261</td>\n",
              "      <td>73</td>\n",
              "      <td>37.0</td>\n",
              "      <td>35.0</td>\n",
              "      <td>1295.0</td>\n",
              "    </tr>\n",
              "    <tr>\n",
              "      <th>2</th>\n",
              "      <td>maksssksksss1.png</td>\n",
              "      <td>400</td>\n",
              "      <td>156</td>\n",
              "      <td>with_mask</td>\n",
              "      <td>299</td>\n",
              "      <td>58</td>\n",
              "      <td>315</td>\n",
              "      <td>81</td>\n",
              "      <td>16.0</td>\n",
              "      <td>23.0</td>\n",
              "      <td>368.0</td>\n",
              "    </tr>\n",
              "    <tr>\n",
              "      <th>3</th>\n",
              "      <td>maksssksksss1.png</td>\n",
              "      <td>400</td>\n",
              "      <td>156</td>\n",
              "      <td>with_mask</td>\n",
              "      <td>143</td>\n",
              "      <td>74</td>\n",
              "      <td>174</td>\n",
              "      <td>115</td>\n",
              "      <td>31.0</td>\n",
              "      <td>41.0</td>\n",
              "      <td>1271.0</td>\n",
              "    </tr>\n",
              "    <tr>\n",
              "      <th>4</th>\n",
              "      <td>maksssksksss1.png</td>\n",
              "      <td>400</td>\n",
              "      <td>156</td>\n",
              "      <td>with_mask</td>\n",
              "      <td>74</td>\n",
              "      <td>69</td>\n",
              "      <td>95</td>\n",
              "      <td>99</td>\n",
              "      <td>21.0</td>\n",
              "      <td>30.0</td>\n",
              "      <td>630.0</td>\n",
              "    </tr>\n",
              "    <tr>\n",
              "      <th>...</th>\n",
              "      <td>...</td>\n",
              "      <td>...</td>\n",
              "      <td>...</td>\n",
              "      <td>...</td>\n",
              "      <td>...</td>\n",
              "      <td>...</td>\n",
              "      <td>...</td>\n",
              "      <td>...</td>\n",
              "      <td>...</td>\n",
              "      <td>...</td>\n",
              "      <td>...</td>\n",
              "    </tr>\n",
              "    <tr>\n",
              "      <th>4063</th>\n",
              "      <td>maksssksksss850.png</td>\n",
              "      <td>400</td>\n",
              "      <td>200</td>\n",
              "      <td>with_mask</td>\n",
              "      <td>323</td>\n",
              "      <td>78</td>\n",
              "      <td>351</td>\n",
              "      <td>47</td>\n",
              "      <td>28.0</td>\n",
              "      <td>-31.0</td>\n",
              "      <td>-868.0</td>\n",
              "    </tr>\n",
              "    <tr>\n",
              "      <th>4064</th>\n",
              "      <td>maksssksksss849.png</td>\n",
              "      <td>400</td>\n",
              "      <td>236</td>\n",
              "      <td>with_mask</td>\n",
              "      <td>48</td>\n",
              "      <td>70</td>\n",
              "      <td>67</td>\n",
              "      <td>52</td>\n",
              "      <td>19.0</td>\n",
              "      <td>-18.0</td>\n",
              "      <td>-342.0</td>\n",
              "    </tr>\n",
              "    <tr>\n",
              "      <th>4065</th>\n",
              "      <td>maksssksksss849.png</td>\n",
              "      <td>400</td>\n",
              "      <td>236</td>\n",
              "      <td>with_mask</td>\n",
              "      <td>95</td>\n",
              "      <td>36</td>\n",
              "      <td>109</td>\n",
              "      <td>20</td>\n",
              "      <td>14.0</td>\n",
              "      <td>-16.0</td>\n",
              "      <td>-224.0</td>\n",
              "    </tr>\n",
              "    <tr>\n",
              "      <th>4066</th>\n",
              "      <td>maksssksksss849.png</td>\n",
              "      <td>400</td>\n",
              "      <td>236</td>\n",
              "      <td>with_mask</td>\n",
              "      <td>213</td>\n",
              "      <td>50</td>\n",
              "      <td>231</td>\n",
              "      <td>29</td>\n",
              "      <td>18.0</td>\n",
              "      <td>-21.0</td>\n",
              "      <td>-378.0</td>\n",
              "    </tr>\n",
              "    <tr>\n",
              "      <th>4067</th>\n",
              "      <td>maksssksksss849.png</td>\n",
              "      <td>400</td>\n",
              "      <td>236</td>\n",
              "      <td>with_mask</td>\n",
              "      <td>354</td>\n",
              "      <td>41</td>\n",
              "      <td>375</td>\n",
              "      <td>15</td>\n",
              "      <td>21.0</td>\n",
              "      <td>-26.0</td>\n",
              "      <td>-546.0</td>\n",
              "    </tr>\n",
              "  </tbody>\n",
              "</table>\n",
              "<p>4063 rows × 11 columns</p>\n",
              "</div>"
            ],
            "text/plain": [
              "                 filename  width  height  ... bb_width  bb_height  bb_area\n",
              "0       maksssksksss1.png    400     156  ...     33.0       35.0   1155.0\n",
              "1       maksssksksss1.png    400     156  ...     37.0       35.0   1295.0\n",
              "2       maksssksksss1.png    400     156  ...     16.0       23.0    368.0\n",
              "3       maksssksksss1.png    400     156  ...     31.0       41.0   1271.0\n",
              "4       maksssksksss1.png    400     156  ...     21.0       30.0    630.0\n",
              "...                   ...    ...     ...  ...      ...        ...      ...\n",
              "4063  maksssksksss850.png    400     200  ...     28.0      -31.0   -868.0\n",
              "4064  maksssksksss849.png    400     236  ...     19.0      -18.0   -342.0\n",
              "4065  maksssksksss849.png    400     236  ...     14.0      -16.0   -224.0\n",
              "4066  maksssksksss849.png    400     236  ...     18.0      -21.0   -378.0\n",
              "4067  maksssksksss849.png    400     236  ...     21.0      -26.0   -546.0\n",
              "\n",
              "[4063 rows x 11 columns]"
            ]
          },
          "metadata": {
            "tags": []
          },
          "execution_count": 108
        }
      ]
    },
    {
      "cell_type": "markdown",
      "metadata": {
        "id": "FFhuZIdd7Vcy"
      },
      "source": [
        "## Removing entries where bb_height < 0 i.e. ymax < ymin"
      ]
    },
    {
      "cell_type": "code",
      "metadata": {
        "id": "fzntw16F7dMV",
        "colab": {
          "base_uri": "https://localhost:8080/",
          "height": 406
        },
        "outputId": "44770245-5d39-4b82-f029-2d5123e140ab"
      },
      "source": [
        "annotation_df = annotation_df.loc[lambda annotation_df: annotation_df[\"bb_height\"] > 0]\n",
        "annotation_df"
      ],
      "execution_count": null,
      "outputs": [
        {
          "output_type": "execute_result",
          "data": {
            "text/html": [
              "<div>\n",
              "<style scoped>\n",
              "    .dataframe tbody tr th:only-of-type {\n",
              "        vertical-align: middle;\n",
              "    }\n",
              "\n",
              "    .dataframe tbody tr th {\n",
              "        vertical-align: top;\n",
              "    }\n",
              "\n",
              "    .dataframe thead th {\n",
              "        text-align: right;\n",
              "    }\n",
              "</style>\n",
              "<table border=\"1\" class=\"dataframe\">\n",
              "  <thead>\n",
              "    <tr style=\"text-align: right;\">\n",
              "      <th></th>\n",
              "      <th>filename</th>\n",
              "      <th>width</th>\n",
              "      <th>height</th>\n",
              "      <th>class</th>\n",
              "      <th>xmin</th>\n",
              "      <th>ymin</th>\n",
              "      <th>xmax</th>\n",
              "      <th>ymax</th>\n",
              "      <th>bb_width</th>\n",
              "      <th>bb_height</th>\n",
              "      <th>bb_area</th>\n",
              "    </tr>\n",
              "  </thead>\n",
              "  <tbody>\n",
              "    <tr>\n",
              "      <th>0</th>\n",
              "      <td>maksssksksss1.png</td>\n",
              "      <td>400</td>\n",
              "      <td>156</td>\n",
              "      <td>with_mask</td>\n",
              "      <td>321</td>\n",
              "      <td>34</td>\n",
              "      <td>354</td>\n",
              "      <td>69</td>\n",
              "      <td>33.0</td>\n",
              "      <td>35.0</td>\n",
              "      <td>1155.0</td>\n",
              "    </tr>\n",
              "    <tr>\n",
              "      <th>1</th>\n",
              "      <td>maksssksksss1.png</td>\n",
              "      <td>400</td>\n",
              "      <td>156</td>\n",
              "      <td>with_mask</td>\n",
              "      <td>224</td>\n",
              "      <td>38</td>\n",
              "      <td>261</td>\n",
              "      <td>73</td>\n",
              "      <td>37.0</td>\n",
              "      <td>35.0</td>\n",
              "      <td>1295.0</td>\n",
              "    </tr>\n",
              "    <tr>\n",
              "      <th>2</th>\n",
              "      <td>maksssksksss1.png</td>\n",
              "      <td>400</td>\n",
              "      <td>156</td>\n",
              "      <td>with_mask</td>\n",
              "      <td>299</td>\n",
              "      <td>58</td>\n",
              "      <td>315</td>\n",
              "      <td>81</td>\n",
              "      <td>16.0</td>\n",
              "      <td>23.0</td>\n",
              "      <td>368.0</td>\n",
              "    </tr>\n",
              "    <tr>\n",
              "      <th>3</th>\n",
              "      <td>maksssksksss1.png</td>\n",
              "      <td>400</td>\n",
              "      <td>156</td>\n",
              "      <td>with_mask</td>\n",
              "      <td>143</td>\n",
              "      <td>74</td>\n",
              "      <td>174</td>\n",
              "      <td>115</td>\n",
              "      <td>31.0</td>\n",
              "      <td>41.0</td>\n",
              "      <td>1271.0</td>\n",
              "    </tr>\n",
              "    <tr>\n",
              "      <th>4</th>\n",
              "      <td>maksssksksss1.png</td>\n",
              "      <td>400</td>\n",
              "      <td>156</td>\n",
              "      <td>with_mask</td>\n",
              "      <td>74</td>\n",
              "      <td>69</td>\n",
              "      <td>95</td>\n",
              "      <td>99</td>\n",
              "      <td>21.0</td>\n",
              "      <td>30.0</td>\n",
              "      <td>630.0</td>\n",
              "    </tr>\n",
              "    <tr>\n",
              "      <th>...</th>\n",
              "      <td>...</td>\n",
              "      <td>...</td>\n",
              "      <td>...</td>\n",
              "      <td>...</td>\n",
              "      <td>...</td>\n",
              "      <td>...</td>\n",
              "      <td>...</td>\n",
              "      <td>...</td>\n",
              "      <td>...</td>\n",
              "      <td>...</td>\n",
              "      <td>...</td>\n",
              "    </tr>\n",
              "    <tr>\n",
              "      <th>4053</th>\n",
              "      <td>maksssksksss41.png</td>\n",
              "      <td>400</td>\n",
              "      <td>281</td>\n",
              "      <td>with_mask</td>\n",
              "      <td>202</td>\n",
              "      <td>188</td>\n",
              "      <td>236</td>\n",
              "      <td>225</td>\n",
              "      <td>34.0</td>\n",
              "      <td>37.0</td>\n",
              "      <td>1258.0</td>\n",
              "    </tr>\n",
              "    <tr>\n",
              "      <th>4054</th>\n",
              "      <td>maksssksksss41.png</td>\n",
              "      <td>400</td>\n",
              "      <td>281</td>\n",
              "      <td>with_mask</td>\n",
              "      <td>234</td>\n",
              "      <td>183</td>\n",
              "      <td>247</td>\n",
              "      <td>207</td>\n",
              "      <td>13.0</td>\n",
              "      <td>24.0</td>\n",
              "      <td>312.0</td>\n",
              "    </tr>\n",
              "    <tr>\n",
              "      <th>4055</th>\n",
              "      <td>maksssksksss41.png</td>\n",
              "      <td>400</td>\n",
              "      <td>281</td>\n",
              "      <td>with_mask</td>\n",
              "      <td>253</td>\n",
              "      <td>169</td>\n",
              "      <td>271</td>\n",
              "      <td>189</td>\n",
              "      <td>18.0</td>\n",
              "      <td>20.0</td>\n",
              "      <td>360.0</td>\n",
              "    </tr>\n",
              "    <tr>\n",
              "      <th>4056</th>\n",
              "      <td>maksssksksss41.png</td>\n",
              "      <td>400</td>\n",
              "      <td>281</td>\n",
              "      <td>with_mask</td>\n",
              "      <td>283</td>\n",
              "      <td>203</td>\n",
              "      <td>315</td>\n",
              "      <td>235</td>\n",
              "      <td>32.0</td>\n",
              "      <td>32.0</td>\n",
              "      <td>1024.0</td>\n",
              "    </tr>\n",
              "    <tr>\n",
              "      <th>4057</th>\n",
              "      <td>maksssksksss41.png</td>\n",
              "      <td>400</td>\n",
              "      <td>281</td>\n",
              "      <td>with_mask</td>\n",
              "      <td>337</td>\n",
              "      <td>186</td>\n",
              "      <td>361</td>\n",
              "      <td>210</td>\n",
              "      <td>24.0</td>\n",
              "      <td>24.0</td>\n",
              "      <td>576.0</td>\n",
              "    </tr>\n",
              "  </tbody>\n",
              "</table>\n",
              "<p>4058 rows × 11 columns</p>\n",
              "</div>"
            ],
            "text/plain": [
              "                filename  width  height  ... bb_width  bb_height  bb_area\n",
              "0      maksssksksss1.png    400     156  ...     33.0       35.0   1155.0\n",
              "1      maksssksksss1.png    400     156  ...     37.0       35.0   1295.0\n",
              "2      maksssksksss1.png    400     156  ...     16.0       23.0    368.0\n",
              "3      maksssksksss1.png    400     156  ...     31.0       41.0   1271.0\n",
              "4      maksssksksss1.png    400     156  ...     21.0       30.0    630.0\n",
              "...                  ...    ...     ...  ...      ...        ...      ...\n",
              "4053  maksssksksss41.png    400     281  ...     34.0       37.0   1258.0\n",
              "4054  maksssksksss41.png    400     281  ...     13.0       24.0    312.0\n",
              "4055  maksssksksss41.png    400     281  ...     18.0       20.0    360.0\n",
              "4056  maksssksksss41.png    400     281  ...     32.0       32.0   1024.0\n",
              "4057  maksssksksss41.png    400     281  ...     24.0       24.0    576.0\n",
              "\n",
              "[4058 rows x 11 columns]"
            ]
          },
          "metadata": {
            "tags": []
          },
          "execution_count": 109
        }
      ]
    },
    {
      "cell_type": "code",
      "metadata": {
        "id": "jKmViAmP7fyZ",
        "colab": {
          "base_uri": "https://localhost:8080/"
        },
        "outputId": "ae0670b4-a8cc-47f5-d458-a93ed0facdb3"
      },
      "source": [
        "annotation_df.shape"
      ],
      "execution_count": null,
      "outputs": [
        {
          "output_type": "execute_result",
          "data": {
            "text/plain": [
              "(4058, 11)"
            ]
          },
          "metadata": {
            "tags": []
          },
          "execution_count": 110
        }
      ]
    },
    {
      "cell_type": "markdown",
      "metadata": {
        "id": "lBuBsKbm7tiY"
      },
      "source": [
        "Thus, the dataset had 10 entries where bb_height or bb_width was less that on equal to zero, which were removed. "
      ]
    },
    {
      "cell_type": "markdown",
      "metadata": {
        "id": "B4qgHX-l75ej"
      },
      "source": [
        "# Finding Outliers"
      ]
    },
    {
      "cell_type": "markdown",
      "metadata": {
        "id": "E5EErWLF8EW9"
      },
      "source": [
        "# Box Plot Visulalization for features in the dataset"
      ]
    },
    {
      "cell_type": "code",
      "metadata": {
        "id": "W9poxwbr7mLK",
        "colab": {
          "base_uri": "https://localhost:8080/",
          "height": 338
        },
        "outputId": "4f86c687-563f-40d1-a11d-ebe73dd89831"
      },
      "source": [
        "annotation_df.plot(kind='box', figsize=(15, 5))"
      ],
      "execution_count": null,
      "outputs": [
        {
          "output_type": "execute_result",
          "data": {
            "text/plain": [
              "<matplotlib.axes._subplots.AxesSubplot at 0x7f3d0ac1de10>"
            ]
          },
          "metadata": {
            "tags": []
          },
          "execution_count": 58
        },
        {
          "output_type": "display_data",
          "data": {
            "image/png": "[encoded data removed]",
            "text/plain": [
              "<Figure size 1080x360 with 1 Axes>"
            ]
          },
          "metadata": {
            "tags": [],
            "needs_background": "light"
          }
        }
      ]
    },
    {
      "cell_type": "code",
      "metadata": {
        "id": "QJELx1lZ8IoE",
        "colab": {
          "base_uri": "https://localhost:8080/"
        },
        "outputId": "9e53680e-9053-44a5-9820-df6c93d76433"
      },
      "source": [
        "#IQR\n",
        "Q1 = annotation_df.quantile(0.25)\n",
        "Q3 = annotation_df.quantile(0.75)\n",
        "IQR = Q3-Q1\n",
        "IQR"
      ],
      "execution_count": null,
      "outputs": [
        {
          "output_type": "execute_result",
          "data": {
            "text/plain": [
              "width           0.0\n",
              "height         55.0\n",
              "xmin          170.0\n",
              "ymin           64.0\n",
              "xmax          158.0\n",
              "ymax           75.0\n",
              "bb_width       22.0\n",
              "bb_height      24.0\n",
              "bb_area      1144.0\n",
              "dtype: float64"
            ]
          },
          "metadata": {
            "tags": []
          },
          "execution_count": 59
        }
      ]
    },
    {
      "cell_type": "code",
      "metadata": {
        "id": "WVkjzNXW8LQM",
        "colab": {
          "base_uri": "https://localhost:8080/"
        },
        "outputId": "2c0691c3-003c-4981-c064-bc7e629d892d"
      },
      "source": [
        "Q1"
      ],
      "execution_count": null,
      "outputs": [
        {
          "output_type": "execute_result",
          "data": {
            "text/plain": [
              "width        400.0\n",
              "height       226.0\n",
              "xmin          96.0\n",
              "ymin          49.0\n",
              "xmax         134.0\n",
              "ymax          73.0\n",
              "bb_width      14.0\n",
              "bb_height     16.0\n",
              "bb_area      225.0\n",
              "Name: 0.25, dtype: float64"
            ]
          },
          "metadata": {
            "tags": []
          },
          "execution_count": 60
        }
      ]
    },
    {
      "cell_type": "markdown",
      "metadata": {
        "id": "N1JbkG5O9w73"
      },
      "source": [
        "## Checking for outliers in the bb_height feature"
      ]
    },
    {
      "cell_type": "code",
      "metadata": {
        "id": "cwAt44di8NK5",
        "colab": {
          "base_uri": "https://localhost:8080/",
          "height": 406
        },
        "outputId": "0b4ef09d-fc01-4def-8a86-903db563fc51"
      },
      "source": [
        "annotation_df = annotation_df.loc[lambda annotation_df: annotation_df[\"bb_height\"] > (Q1[\"bb_height\"] - 1.5*IQR[\"bb_height\"])]\n",
        "annotation_df"
      ],
      "execution_count": null,
      "outputs": [
        {
          "output_type": "execute_result",
          "data": {
            "text/html": [
              "<div>\n",
              "<style scoped>\n",
              "    .dataframe tbody tr th:only-of-type {\n",
              "        vertical-align: middle;\n",
              "    }\n",
              "\n",
              "    .dataframe tbody tr th {\n",
              "        vertical-align: top;\n",
              "    }\n",
              "\n",
              "    .dataframe thead th {\n",
              "        text-align: right;\n",
              "    }\n",
              "</style>\n",
              "<table border=\"1\" class=\"dataframe\">\n",
              "  <thead>\n",
              "    <tr style=\"text-align: right;\">\n",
              "      <th></th>\n",
              "      <th>filename</th>\n",
              "      <th>width</th>\n",
              "      <th>height</th>\n",
              "      <th>class</th>\n",
              "      <th>xmin</th>\n",
              "      <th>ymin</th>\n",
              "      <th>xmax</th>\n",
              "      <th>ymax</th>\n",
              "      <th>bb_width</th>\n",
              "      <th>bb_height</th>\n",
              "      <th>bb_area</th>\n",
              "    </tr>\n",
              "  </thead>\n",
              "  <tbody>\n",
              "    <tr>\n",
              "      <th>0</th>\n",
              "      <td>maksssksksss1.png</td>\n",
              "      <td>400</td>\n",
              "      <td>156</td>\n",
              "      <td>with_mask</td>\n",
              "      <td>321</td>\n",
              "      <td>34</td>\n",
              "      <td>354</td>\n",
              "      <td>69</td>\n",
              "      <td>33.0</td>\n",
              "      <td>35.0</td>\n",
              "      <td>1155.0</td>\n",
              "    </tr>\n",
              "    <tr>\n",
              "      <th>1</th>\n",
              "      <td>maksssksksss1.png</td>\n",
              "      <td>400</td>\n",
              "      <td>156</td>\n",
              "      <td>with_mask</td>\n",
              "      <td>224</td>\n",
              "      <td>38</td>\n",
              "      <td>261</td>\n",
              "      <td>73</td>\n",
              "      <td>37.0</td>\n",
              "      <td>35.0</td>\n",
              "      <td>1295.0</td>\n",
              "    </tr>\n",
              "    <tr>\n",
              "      <th>2</th>\n",
              "      <td>maksssksksss1.png</td>\n",
              "      <td>400</td>\n",
              "      <td>156</td>\n",
              "      <td>with_mask</td>\n",
              "      <td>299</td>\n",
              "      <td>58</td>\n",
              "      <td>315</td>\n",
              "      <td>81</td>\n",
              "      <td>16.0</td>\n",
              "      <td>23.0</td>\n",
              "      <td>368.0</td>\n",
              "    </tr>\n",
              "    <tr>\n",
              "      <th>3</th>\n",
              "      <td>maksssksksss1.png</td>\n",
              "      <td>400</td>\n",
              "      <td>156</td>\n",
              "      <td>with_mask</td>\n",
              "      <td>143</td>\n",
              "      <td>74</td>\n",
              "      <td>174</td>\n",
              "      <td>115</td>\n",
              "      <td>31.0</td>\n",
              "      <td>41.0</td>\n",
              "      <td>1271.0</td>\n",
              "    </tr>\n",
              "    <tr>\n",
              "      <th>4</th>\n",
              "      <td>maksssksksss1.png</td>\n",
              "      <td>400</td>\n",
              "      <td>156</td>\n",
              "      <td>with_mask</td>\n",
              "      <td>74</td>\n",
              "      <td>69</td>\n",
              "      <td>95</td>\n",
              "      <td>99</td>\n",
              "      <td>21.0</td>\n",
              "      <td>30.0</td>\n",
              "      <td>630.0</td>\n",
              "    </tr>\n",
              "    <tr>\n",
              "      <th>...</th>\n",
              "      <td>...</td>\n",
              "      <td>...</td>\n",
              "      <td>...</td>\n",
              "      <td>...</td>\n",
              "      <td>...</td>\n",
              "      <td>...</td>\n",
              "      <td>...</td>\n",
              "      <td>...</td>\n",
              "      <td>...</td>\n",
              "      <td>...</td>\n",
              "      <td>...</td>\n",
              "    </tr>\n",
              "    <tr>\n",
              "      <th>4053</th>\n",
              "      <td>maksssksksss41.png</td>\n",
              "      <td>400</td>\n",
              "      <td>281</td>\n",
              "      <td>with_mask</td>\n",
              "      <td>202</td>\n",
              "      <td>188</td>\n",
              "      <td>236</td>\n",
              "      <td>225</td>\n",
              "      <td>34.0</td>\n",
              "      <td>37.0</td>\n",
              "      <td>1258.0</td>\n",
              "    </tr>\n",
              "    <tr>\n",
              "      <th>4054</th>\n",
              "      <td>maksssksksss41.png</td>\n",
              "      <td>400</td>\n",
              "      <td>281</td>\n",
              "      <td>with_mask</td>\n",
              "      <td>234</td>\n",
              "      <td>183</td>\n",
              "      <td>247</td>\n",
              "      <td>207</td>\n",
              "      <td>13.0</td>\n",
              "      <td>24.0</td>\n",
              "      <td>312.0</td>\n",
              "    </tr>\n",
              "    <tr>\n",
              "      <th>4055</th>\n",
              "      <td>maksssksksss41.png</td>\n",
              "      <td>400</td>\n",
              "      <td>281</td>\n",
              "      <td>with_mask</td>\n",
              "      <td>253</td>\n",
              "      <td>169</td>\n",
              "      <td>271</td>\n",
              "      <td>189</td>\n",
              "      <td>18.0</td>\n",
              "      <td>20.0</td>\n",
              "      <td>360.0</td>\n",
              "    </tr>\n",
              "    <tr>\n",
              "      <th>4056</th>\n",
              "      <td>maksssksksss41.png</td>\n",
              "      <td>400</td>\n",
              "      <td>281</td>\n",
              "      <td>with_mask</td>\n",
              "      <td>283</td>\n",
              "      <td>203</td>\n",
              "      <td>315</td>\n",
              "      <td>235</td>\n",
              "      <td>32.0</td>\n",
              "      <td>32.0</td>\n",
              "      <td>1024.0</td>\n",
              "    </tr>\n",
              "    <tr>\n",
              "      <th>4057</th>\n",
              "      <td>maksssksksss41.png</td>\n",
              "      <td>400</td>\n",
              "      <td>281</td>\n",
              "      <td>with_mask</td>\n",
              "      <td>337</td>\n",
              "      <td>186</td>\n",
              "      <td>361</td>\n",
              "      <td>210</td>\n",
              "      <td>24.0</td>\n",
              "      <td>24.0</td>\n",
              "      <td>576.0</td>\n",
              "    </tr>\n",
              "  </tbody>\n",
              "</table>\n",
              "<p>4058 rows × 11 columns</p>\n",
              "</div>"
            ],
            "text/plain": [
              "                filename  width  height  ... bb_width  bb_height  bb_area\n",
              "0      maksssksksss1.png    400     156  ...     33.0       35.0   1155.0\n",
              "1      maksssksksss1.png    400     156  ...     37.0       35.0   1295.0\n",
              "2      maksssksksss1.png    400     156  ...     16.0       23.0    368.0\n",
              "3      maksssksksss1.png    400     156  ...     31.0       41.0   1271.0\n",
              "4      maksssksksss1.png    400     156  ...     21.0       30.0    630.0\n",
              "...                  ...    ...     ...  ...      ...        ...      ...\n",
              "4053  maksssksksss41.png    400     281  ...     34.0       37.0   1258.0\n",
              "4054  maksssksksss41.png    400     281  ...     13.0       24.0    312.0\n",
              "4055  maksssksksss41.png    400     281  ...     18.0       20.0    360.0\n",
              "4056  maksssksksss41.png    400     281  ...     32.0       32.0   1024.0\n",
              "4057  maksssksksss41.png    400     281  ...     24.0       24.0    576.0\n",
              "\n",
              "[4058 rows x 11 columns]"
            ]
          },
          "metadata": {
            "tags": []
          },
          "execution_count": 61
        }
      ]
    },
    {
      "cell_type": "markdown",
      "metadata": {
        "id": "qLXUCW5u92zf"
      },
      "source": [
        "## Checking for outliers in the bb_width feature"
      ]
    },
    {
      "cell_type": "code",
      "metadata": {
        "id": "0G9qXNUI9_4_",
        "colab": {
          "base_uri": "https://localhost:8080/",
          "height": 406
        },
        "outputId": "9b7b7672-872c-4f4e-9314-ee539abddf80"
      },
      "source": [
        "annotation_df = annotation_df.loc[lambda annotation_df: annotation_df[\"bb_width\"] > (Q1[\"bb_width\"] - 1.5*IQR[\"bb_width\"])]\n",
        "annotation_df"
      ],
      "execution_count": null,
      "outputs": [
        {
          "output_type": "execute_result",
          "data": {
            "text/html": [
              "<div>\n",
              "<style scoped>\n",
              "    .dataframe tbody tr th:only-of-type {\n",
              "        vertical-align: middle;\n",
              "    }\n",
              "\n",
              "    .dataframe tbody tr th {\n",
              "        vertical-align: top;\n",
              "    }\n",
              "\n",
              "    .dataframe thead th {\n",
              "        text-align: right;\n",
              "    }\n",
              "</style>\n",
              "<table border=\"1\" class=\"dataframe\">\n",
              "  <thead>\n",
              "    <tr style=\"text-align: right;\">\n",
              "      <th></th>\n",
              "      <th>filename</th>\n",
              "      <th>width</th>\n",
              "      <th>height</th>\n",
              "      <th>class</th>\n",
              "      <th>xmin</th>\n",
              "      <th>ymin</th>\n",
              "      <th>xmax</th>\n",
              "      <th>ymax</th>\n",
              "      <th>bb_width</th>\n",
              "      <th>bb_height</th>\n",
              "      <th>bb_area</th>\n",
              "    </tr>\n",
              "  </thead>\n",
              "  <tbody>\n",
              "    <tr>\n",
              "      <th>0</th>\n",
              "      <td>maksssksksss1.png</td>\n",
              "      <td>400</td>\n",
              "      <td>156</td>\n",
              "      <td>with_mask</td>\n",
              "      <td>321</td>\n",
              "      <td>34</td>\n",
              "      <td>354</td>\n",
              "      <td>69</td>\n",
              "      <td>33.0</td>\n",
              "      <td>35.0</td>\n",
              "      <td>1155.0</td>\n",
              "    </tr>\n",
              "    <tr>\n",
              "      <th>1</th>\n",
              "      <td>maksssksksss1.png</td>\n",
              "      <td>400</td>\n",
              "      <td>156</td>\n",
              "      <td>with_mask</td>\n",
              "      <td>224</td>\n",
              "      <td>38</td>\n",
              "      <td>261</td>\n",
              "      <td>73</td>\n",
              "      <td>37.0</td>\n",
              "      <td>35.0</td>\n",
              "      <td>1295.0</td>\n",
              "    </tr>\n",
              "    <tr>\n",
              "      <th>2</th>\n",
              "      <td>maksssksksss1.png</td>\n",
              "      <td>400</td>\n",
              "      <td>156</td>\n",
              "      <td>with_mask</td>\n",
              "      <td>299</td>\n",
              "      <td>58</td>\n",
              "      <td>315</td>\n",
              "      <td>81</td>\n",
              "      <td>16.0</td>\n",
              "      <td>23.0</td>\n",
              "      <td>368.0</td>\n",
              "    </tr>\n",
              "    <tr>\n",
              "      <th>3</th>\n",
              "      <td>maksssksksss1.png</td>\n",
              "      <td>400</td>\n",
              "      <td>156</td>\n",
              "      <td>with_mask</td>\n",
              "      <td>143</td>\n",
              "      <td>74</td>\n",
              "      <td>174</td>\n",
              "      <td>115</td>\n",
              "      <td>31.0</td>\n",
              "      <td>41.0</td>\n",
              "      <td>1271.0</td>\n",
              "    </tr>\n",
              "    <tr>\n",
              "      <th>4</th>\n",
              "      <td>maksssksksss1.png</td>\n",
              "      <td>400</td>\n",
              "      <td>156</td>\n",
              "      <td>with_mask</td>\n",
              "      <td>74</td>\n",
              "      <td>69</td>\n",
              "      <td>95</td>\n",
              "      <td>99</td>\n",
              "      <td>21.0</td>\n",
              "      <td>30.0</td>\n",
              "      <td>630.0</td>\n",
              "    </tr>\n",
              "    <tr>\n",
              "      <th>...</th>\n",
              "      <td>...</td>\n",
              "      <td>...</td>\n",
              "      <td>...</td>\n",
              "      <td>...</td>\n",
              "      <td>...</td>\n",
              "      <td>...</td>\n",
              "      <td>...</td>\n",
              "      <td>...</td>\n",
              "      <td>...</td>\n",
              "      <td>...</td>\n",
              "      <td>...</td>\n",
              "    </tr>\n",
              "    <tr>\n",
              "      <th>4053</th>\n",
              "      <td>maksssksksss41.png</td>\n",
              "      <td>400</td>\n",
              "      <td>281</td>\n",
              "      <td>with_mask</td>\n",
              "      <td>202</td>\n",
              "      <td>188</td>\n",
              "      <td>236</td>\n",
              "      <td>225</td>\n",
              "      <td>34.0</td>\n",
              "      <td>37.0</td>\n",
              "      <td>1258.0</td>\n",
              "    </tr>\n",
              "    <tr>\n",
              "      <th>4054</th>\n",
              "      <td>maksssksksss41.png</td>\n",
              "      <td>400</td>\n",
              "      <td>281</td>\n",
              "      <td>with_mask</td>\n",
              "      <td>234</td>\n",
              "      <td>183</td>\n",
              "      <td>247</td>\n",
              "      <td>207</td>\n",
              "      <td>13.0</td>\n",
              "      <td>24.0</td>\n",
              "      <td>312.0</td>\n",
              "    </tr>\n",
              "    <tr>\n",
              "      <th>4055</th>\n",
              "      <td>maksssksksss41.png</td>\n",
              "      <td>400</td>\n",
              "      <td>281</td>\n",
              "      <td>with_mask</td>\n",
              "      <td>253</td>\n",
              "      <td>169</td>\n",
              "      <td>271</td>\n",
              "      <td>189</td>\n",
              "      <td>18.0</td>\n",
              "      <td>20.0</td>\n",
              "      <td>360.0</td>\n",
              "    </tr>\n",
              "    <tr>\n",
              "      <th>4056</th>\n",
              "      <td>maksssksksss41.png</td>\n",
              "      <td>400</td>\n",
              "      <td>281</td>\n",
              "      <td>with_mask</td>\n",
              "      <td>283</td>\n",
              "      <td>203</td>\n",
              "      <td>315</td>\n",
              "      <td>235</td>\n",
              "      <td>32.0</td>\n",
              "      <td>32.0</td>\n",
              "      <td>1024.0</td>\n",
              "    </tr>\n",
              "    <tr>\n",
              "      <th>4057</th>\n",
              "      <td>maksssksksss41.png</td>\n",
              "      <td>400</td>\n",
              "      <td>281</td>\n",
              "      <td>with_mask</td>\n",
              "      <td>337</td>\n",
              "      <td>186</td>\n",
              "      <td>361</td>\n",
              "      <td>210</td>\n",
              "      <td>24.0</td>\n",
              "      <td>24.0</td>\n",
              "      <td>576.0</td>\n",
              "    </tr>\n",
              "  </tbody>\n",
              "</table>\n",
              "<p>4058 rows × 11 columns</p>\n",
              "</div>"
            ],
            "text/plain": [
              "                filename  width  height  ... bb_width  bb_height  bb_area\n",
              "0      maksssksksss1.png    400     156  ...     33.0       35.0   1155.0\n",
              "1      maksssksksss1.png    400     156  ...     37.0       35.0   1295.0\n",
              "2      maksssksksss1.png    400     156  ...     16.0       23.0    368.0\n",
              "3      maksssksksss1.png    400     156  ...     31.0       41.0   1271.0\n",
              "4      maksssksksss1.png    400     156  ...     21.0       30.0    630.0\n",
              "...                  ...    ...     ...  ...      ...        ...      ...\n",
              "4053  maksssksksss41.png    400     281  ...     34.0       37.0   1258.0\n",
              "4054  maksssksksss41.png    400     281  ...     13.0       24.0    312.0\n",
              "4055  maksssksksss41.png    400     281  ...     18.0       20.0    360.0\n",
              "4056  maksssksksss41.png    400     281  ...     32.0       32.0   1024.0\n",
              "4057  maksssksksss41.png    400     281  ...     24.0       24.0    576.0\n",
              "\n",
              "[4058 rows x 11 columns]"
            ]
          },
          "metadata": {
            "tags": []
          },
          "execution_count": 62
        }
      ]
    },
    {
      "cell_type": "markdown",
      "metadata": {
        "id": "5PXxQcKM-CXa"
      },
      "source": [
        "## Checking for outliers in the bb_area feature"
      ]
    },
    {
      "cell_type": "code",
      "metadata": {
        "id": "jT1ESa2q-Hzi",
        "colab": {
          "base_uri": "https://localhost:8080/",
          "height": 406
        },
        "outputId": "8680d60f-9c86-4e73-e1f8-64d95a145a34"
      },
      "source": [
        "annotation_df = annotation_df.loc[lambda annotation_df: annotation_df[\"bb_area\"] > (Q1[\"bb_area\"] - 1.5*IQR[\"bb_area\"])]\n",
        "annotation_df"
      ],
      "execution_count": null,
      "outputs": [
        {
          "output_type": "execute_result",
          "data": {
            "text/html": [
              "<div>\n",
              "<style scoped>\n",
              "    .dataframe tbody tr th:only-of-type {\n",
              "        vertical-align: middle;\n",
              "    }\n",
              "\n",
              "    .dataframe tbody tr th {\n",
              "        vertical-align: top;\n",
              "    }\n",
              "\n",
              "    .dataframe thead th {\n",
              "        text-align: right;\n",
              "    }\n",
              "</style>\n",
              "<table border=\"1\" class=\"dataframe\">\n",
              "  <thead>\n",
              "    <tr style=\"text-align: right;\">\n",
              "      <th></th>\n",
              "      <th>filename</th>\n",
              "      <th>width</th>\n",
              "      <th>height</th>\n",
              "      <th>class</th>\n",
              "      <th>xmin</th>\n",
              "      <th>ymin</th>\n",
              "      <th>xmax</th>\n",
              "      <th>ymax</th>\n",
              "      <th>bb_width</th>\n",
              "      <th>bb_height</th>\n",
              "      <th>bb_area</th>\n",
              "    </tr>\n",
              "  </thead>\n",
              "  <tbody>\n",
              "    <tr>\n",
              "      <th>0</th>\n",
              "      <td>maksssksksss1.png</td>\n",
              "      <td>400</td>\n",
              "      <td>156</td>\n",
              "      <td>with_mask</td>\n",
              "      <td>321</td>\n",
              "      <td>34</td>\n",
              "      <td>354</td>\n",
              "      <td>69</td>\n",
              "      <td>33.0</td>\n",
              "      <td>35.0</td>\n",
              "      <td>1155.0</td>\n",
              "    </tr>\n",
              "    <tr>\n",
              "      <th>1</th>\n",
              "      <td>maksssksksss1.png</td>\n",
              "      <td>400</td>\n",
              "      <td>156</td>\n",
              "      <td>with_mask</td>\n",
              "      <td>224</td>\n",
              "      <td>38</td>\n",
              "      <td>261</td>\n",
              "      <td>73</td>\n",
              "      <td>37.0</td>\n",
              "      <td>35.0</td>\n",
              "      <td>1295.0</td>\n",
              "    </tr>\n",
              "    <tr>\n",
              "      <th>2</th>\n",
              "      <td>maksssksksss1.png</td>\n",
              "      <td>400</td>\n",
              "      <td>156</td>\n",
              "      <td>with_mask</td>\n",
              "      <td>299</td>\n",
              "      <td>58</td>\n",
              "      <td>315</td>\n",
              "      <td>81</td>\n",
              "      <td>16.0</td>\n",
              "      <td>23.0</td>\n",
              "      <td>368.0</td>\n",
              "    </tr>\n",
              "    <tr>\n",
              "      <th>3</th>\n",
              "      <td>maksssksksss1.png</td>\n",
              "      <td>400</td>\n",
              "      <td>156</td>\n",
              "      <td>with_mask</td>\n",
              "      <td>143</td>\n",
              "      <td>74</td>\n",
              "      <td>174</td>\n",
              "      <td>115</td>\n",
              "      <td>31.0</td>\n",
              "      <td>41.0</td>\n",
              "      <td>1271.0</td>\n",
              "    </tr>\n",
              "    <tr>\n",
              "      <th>4</th>\n",
              "      <td>maksssksksss1.png</td>\n",
              "      <td>400</td>\n",
              "      <td>156</td>\n",
              "      <td>with_mask</td>\n",
              "      <td>74</td>\n",
              "      <td>69</td>\n",
              "      <td>95</td>\n",
              "      <td>99</td>\n",
              "      <td>21.0</td>\n",
              "      <td>30.0</td>\n",
              "      <td>630.0</td>\n",
              "    </tr>\n",
              "    <tr>\n",
              "      <th>...</th>\n",
              "      <td>...</td>\n",
              "      <td>...</td>\n",
              "      <td>...</td>\n",
              "      <td>...</td>\n",
              "      <td>...</td>\n",
              "      <td>...</td>\n",
              "      <td>...</td>\n",
              "      <td>...</td>\n",
              "      <td>...</td>\n",
              "      <td>...</td>\n",
              "      <td>...</td>\n",
              "    </tr>\n",
              "    <tr>\n",
              "      <th>4053</th>\n",
              "      <td>maksssksksss41.png</td>\n",
              "      <td>400</td>\n",
              "      <td>281</td>\n",
              "      <td>with_mask</td>\n",
              "      <td>202</td>\n",
              "      <td>188</td>\n",
              "      <td>236</td>\n",
              "      <td>225</td>\n",
              "      <td>34.0</td>\n",
              "      <td>37.0</td>\n",
              "      <td>1258.0</td>\n",
              "    </tr>\n",
              "    <tr>\n",
              "      <th>4054</th>\n",
              "      <td>maksssksksss41.png</td>\n",
              "      <td>400</td>\n",
              "      <td>281</td>\n",
              "      <td>with_mask</td>\n",
              "      <td>234</td>\n",
              "      <td>183</td>\n",
              "      <td>247</td>\n",
              "      <td>207</td>\n",
              "      <td>13.0</td>\n",
              "      <td>24.0</td>\n",
              "      <td>312.0</td>\n",
              "    </tr>\n",
              "    <tr>\n",
              "      <th>4055</th>\n",
              "      <td>maksssksksss41.png</td>\n",
              "      <td>400</td>\n",
              "      <td>281</td>\n",
              "      <td>with_mask</td>\n",
              "      <td>253</td>\n",
              "      <td>169</td>\n",
              "      <td>271</td>\n",
              "      <td>189</td>\n",
              "      <td>18.0</td>\n",
              "      <td>20.0</td>\n",
              "      <td>360.0</td>\n",
              "    </tr>\n",
              "    <tr>\n",
              "      <th>4056</th>\n",
              "      <td>maksssksksss41.png</td>\n",
              "      <td>400</td>\n",
              "      <td>281</td>\n",
              "      <td>with_mask</td>\n",
              "      <td>283</td>\n",
              "      <td>203</td>\n",
              "      <td>315</td>\n",
              "      <td>235</td>\n",
              "      <td>32.0</td>\n",
              "      <td>32.0</td>\n",
              "      <td>1024.0</td>\n",
              "    </tr>\n",
              "    <tr>\n",
              "      <th>4057</th>\n",
              "      <td>maksssksksss41.png</td>\n",
              "      <td>400</td>\n",
              "      <td>281</td>\n",
              "      <td>with_mask</td>\n",
              "      <td>337</td>\n",
              "      <td>186</td>\n",
              "      <td>361</td>\n",
              "      <td>210</td>\n",
              "      <td>24.0</td>\n",
              "      <td>24.0</td>\n",
              "      <td>576.0</td>\n",
              "    </tr>\n",
              "  </tbody>\n",
              "</table>\n",
              "<p>4058 rows × 11 columns</p>\n",
              "</div>"
            ],
            "text/plain": [
              "                filename  width  height  ... bb_width  bb_height  bb_area\n",
              "0      maksssksksss1.png    400     156  ...     33.0       35.0   1155.0\n",
              "1      maksssksksss1.png    400     156  ...     37.0       35.0   1295.0\n",
              "2      maksssksksss1.png    400     156  ...     16.0       23.0    368.0\n",
              "3      maksssksksss1.png    400     156  ...     31.0       41.0   1271.0\n",
              "4      maksssksksss1.png    400     156  ...     21.0       30.0    630.0\n",
              "...                  ...    ...     ...  ...      ...        ...      ...\n",
              "4053  maksssksksss41.png    400     281  ...     34.0       37.0   1258.0\n",
              "4054  maksssksksss41.png    400     281  ...     13.0       24.0    312.0\n",
              "4055  maksssksksss41.png    400     281  ...     18.0       20.0    360.0\n",
              "4056  maksssksksss41.png    400     281  ...     32.0       32.0   1024.0\n",
              "4057  maksssksksss41.png    400     281  ...     24.0       24.0    576.0\n",
              "\n",
              "[4058 rows x 11 columns]"
            ]
          },
          "metadata": {
            "tags": []
          },
          "execution_count": 63
        }
      ]
    },
    {
      "cell_type": "markdown",
      "metadata": {
        "id": "6_X_dhQ57-gz"
      },
      "source": [
        "For finding outliers, we searched for bounding boxes which were smaller than the expected range of values. The outliers which are greater than the expected range are not considered, as they still represent valid data i.e. bounding boxes of faces which took up more space in the image."
      ]
    }
  ]
}